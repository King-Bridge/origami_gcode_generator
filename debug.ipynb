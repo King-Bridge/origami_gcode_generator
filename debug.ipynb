{
 "cells": [
  {
   "cell_type": "code",
   "execution_count": 17,
   "metadata": {},
   "outputs": [],
   "source": [
    "import numpy as np\n",
    "import matplotlib.pyplot as plt"
   ]
  },
  {
   "cell_type": "code",
   "execution_count": 13,
   "metadata": {},
   "outputs": [],
   "source": [
    "def read_data_file(filename):\n",
    "    '''\n",
    "    Read a data file and return a list of polygons.\n",
    "    Returns:\n",
    "        polygons = [polygon1, polygon2, polygon3, ...]\n",
    "        polygon  = [[vertex1, vertex2, ...], [hinge1, hinge2, ...]]\n",
    "        vertex   = [x, y]\n",
    "        hinge    = [side_number, hinge_orientation, bending_angle]\n",
    "    '''\n",
    "    \n",
    "    data = []\n",
    "    with open(filename, 'r') as f:\n",
    "        for line in f:\n",
    "            line = line.strip()  \n",
    "            if line and not line.startswith('#'):  \n",
    "                numbers = [float(x) for x in line.split()]  \n",
    "                data.append(numbers)\n",
    "    \n",
    "    polygons = []\n",
    "    line = 0\n",
    "    \n",
    "    num_polygons = int(data[line][0])\n",
    "    line += 1\n",
    "    \n",
    "    for i in range (num_polygons):\n",
    "        num_vertices = int(data[line][0])\n",
    "        num_hinges = int(data[line][1])\n",
    "        line += 1\n",
    "        \n",
    "        vertices = []\n",
    "        for j in range (num_vertices):\n",
    "            vertices.append(data[line])\n",
    "            line += 1\n",
    "        \n",
    "        hinges = []\n",
    "        for j in range (num_hinges):\n",
    "            hinges.append(data[line])\n",
    "            line += 1\n",
    "        \n",
    "        polygons.append([vertices, hinges])\n",
    "        \n",
    "    return polygons"
   ]
  },
  {
   "cell_type": "code",
   "execution_count": 23,
   "metadata": {},
   "outputs": [],
   "source": [
    "def draw_polygons(polygons):\n",
    "    \"\"\"\n",
    "    Draw the origami pattern represented by the given polygons data.\n",
    "\n",
    "    Args:\n",
    "        polygons: from read_data_file\n",
    "    \"\"\"\n",
    "\n",
    "    fig, ax = plt.subplots()\n",
    "    ax.set_aspect('equal')\n",
    "\n",
    "    min_x, min_y = float('inf'), float('inf')\n",
    "    max_x, max_y = float('-inf'), float('-inf')\n",
    "    for polygon in polygons:\n",
    "        vertices = polygon[0]\n",
    "        for x, y in vertices:\n",
    "            min_x = min(min_x, x)\n",
    "            min_y = min(min_y, y)\n",
    "            max_x = max(max_x, x)\n",
    "            max_y = max(max_y, y)\n",
    "\n",
    "    ax.set_xlim(min_x - 1, max_x + 1)\n",
    "    ax.set_ylim(min_y - 1, max_y + 1)\n",
    "\n",
    "    marked_edges = set()  \n",
    "\n",
    "    for polygon in polygons:\n",
    "        vertices = polygon[0]\n",
    "        highlight_edges = polygon[1]\n",
    "\n",
    "        for i in range(len(vertices)):\n",
    "            x1, y1 = vertices[i]\n",
    "            x2, y2 = vertices[(i + 1) % len(vertices)]\n",
    "            color = 'black'  \n",
    "            edge_key = tuple(sorted(((x1, y1), (x2, y2))))  \n",
    "            text_color = 'black' \n",
    "\n",
    "            for edge_info in highlight_edges:\n",
    "                edge_index = int(edge_info[0]) - 1\n",
    "                if i == edge_index:\n",
    "                    color_code = int(edge_info[1])\n",
    "                    if color_code == 1:\n",
    "                        color = 'blue'\n",
    "                    elif color_code == 0:\n",
    "                        color = 'red'\n",
    "                    \n",
    "                    if edge_key not in marked_edges:  \n",
    "                        value = edge_info[2]  \n",
    "\n",
    "                        mid_x = (x1 + x2) / 2\n",
    "                        mid_y = (y1 + y2) / 2\n",
    "\n",
    "                        angle = np.degrees(np.arctan2(y2 - y1, x2 - x1)) - 90\n",
    "                        if angle < 0:\n",
    "                            angle += 360\n",
    "\n",
    "                        ax.text(mid_x, mid_y, str(value), color=text_color, ha='center', va='center', rotation=angle, fontweight='bold')\n",
    "\n",
    "                        marked_edges.add(edge_key)  \n",
    "                        break  \n",
    "            \n",
    "            ax.plot([x1, x2], [y1, y2], color=color, linewidth=2)\n",
    "\n",
    "    plt.title(\"Origami Pattern\")\n",
    "    plt.xlabel(\"X\")\n",
    "    plt.ylabel(\"Y\")\n",
    "    plt.grid(True)\n",
    "    plt.show()"
   ]
  },
  {
   "cell_type": "code",
   "execution_count": 24,
   "metadata": {},
   "outputs": [
    {
     "data": {
      "image/png": "[encoded data removed]",
      "text/plain": [
       "<Figure size 640x480 with 1 Axes>"
      ]
     },
     "metadata": {},
     "output_type": "display_data"
    }
   ],
   "source": [
    "polygons = read_data_file('data_files/single_90.dat')\n",
    "draw_polygons(polygons)"
   ]
  },
  {
   "cell_type": "code",
   "execution_count": 16,
   "metadata": {},
   "outputs": [
    {
     "data": {
      "text/plain": [
       "[[[[0.0, 0.0], [10.0, 0.0], [10.0, 10.0], [0.0, 10.0]], [[2.0, 1.0, 90.0]]],\n",
       " [[[10.0, 0.0], [20.0, 0.0], [20.0, 10.0], [10.0, 10.0]], [[4.0, 1.0, 90.0]]]]"
      ]
     },
     "execution_count": 16,
     "metadata": {},
     "output_type": "execute_result"
    }
   ],
   "source": [
    "polygons"
   ]
  },
  {
   "cell_type": "code",
   "execution_count": null,
   "metadata": {},
   "outputs": [],
   "source": [
    "[[[0.0, 0.0], [10.0, 0.0], [10.0, 10.0], [0.0, 10.0]], [[2.0, 1.0, 90.0]]]"
   ]
  }
 ],
 "metadata": {
  "kernelspec": {
   "display_name": "gcode",
   "language": "python",
   "name": "python3"
  },
  "language_info": {
   "codemirror_mode": {
    "name": "ipython",
    "version": 3
   },
   "file_extension": ".py",
   "mimetype": "text/x-python",
   "name": "python",
   "nbconvert_exporter": "python",
   "pygments_lexer": "ipython3",
   "version": "3.8.20"
  }
 },
 "nbformat": 4,
 "nbformat_minor": 2
}

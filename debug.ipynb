{
 "cells": [
  {
   "cell_type": "code",
   "execution_count": null,
   "metadata": {},
   "outputs": [],
   "source": [
    "import numpy as np\n",
    "import matplotlib.pyplot as plt\n",
    "import networkx as nx\n",
    "\n",
    "layer_height = 0.4\n",
    "layer_count = 12\n",
    "delta = 0.8"
   ]
  },
  {
   "cell_type": "code",
   "execution_count": 2,
   "metadata": {},
   "outputs": [],
   "source": [
    "def read_data_file(filename):\n",
    "    '''\n",
    "    Read a data file and return a list of polygons.\n",
    "    Returns:\n",
    "        polygons = [polygon1, polygon2, polygon3, ...]\n",
    "        polygon  = [[vertex1, vertex2, ...], [hinge1, hinge2, ...]]\n",
    "        vertex   = [x, y]\n",
    "        hinge    = [side_number, hinge_orientation, bending_angle]\n",
    "    '''\n",
    "    \n",
    "    data = []\n",
    "    with open(filename, 'r') as f:\n",
    "        for line in f:\n",
    "            line = line.strip()  \n",
    "            if line and not line.startswith('#'):  \n",
    "                numbers = [float(x) for x in line.split()]  \n",
    "                data.append(numbers)\n",
    "    \n",
    "    polygons = []\n",
    "    line = 0\n",
    "    \n",
    "    num_polygons = int(data[line][0])\n",
    "    line += 1\n",
    "    \n",
    "    for i in range (num_polygons):\n",
    "        num_vertices = int(data[line][0])\n",
    "        num_hinges = int(data[line][1])\n",
    "        line += 1\n",
    "        \n",
    "        vertices = []\n",
    "        for j in range (num_vertices):\n",
    "            vertices.append(data[line])\n",
    "            line += 1\n",
    "        \n",
    "        hinges = []\n",
    "        for j in range (num_hinges):\n",
    "            hinges.append(data[line])\n",
    "            line += 1\n",
    "        \n",
    "        polygons.append([vertices, hinges])\n",
    "        \n",
    "    return polygons"
   ]
  },
  {
   "cell_type": "code",
   "execution_count": 3,
   "metadata": {},
   "outputs": [],
   "source": [
    "def draw_polygons(polygons):\n",
    "    \"\"\"\n",
    "    Draw the origami pattern represented by the given polygons data.\n",
    "\n",
    "    Args:\n",
    "        polygons: from read_data_file\n",
    "    \"\"\"\n",
    "\n",
    "    fig, ax = plt.subplots()\n",
    "    ax.set_aspect('equal')\n",
    "\n",
    "    min_x, min_y = float('inf'), float('inf')\n",
    "    max_x, max_y = float('-inf'), float('-inf')\n",
    "    for polygon in polygons:\n",
    "        vertices = polygon[0]\n",
    "        for x, y in vertices:\n",
    "            min_x = min(min_x, x)\n",
    "            min_y = min(min_y, y)\n",
    "            max_x = max(max_x, x)\n",
    "            max_y = max(max_y, y)\n",
    "\n",
    "    ax.set_xlim(min_x - 1, max_x + 1)\n",
    "    ax.set_ylim(min_y - 1, max_y + 1)\n",
    "\n",
    "    marked_edges = set()  \n",
    "\n",
    "    for polygon in polygons:\n",
    "        vertices = polygon[0]\n",
    "        highlight_edges = polygon[1]\n",
    "\n",
    "        for i in range(len(vertices)):\n",
    "            x1, y1 = vertices[i]\n",
    "            x2, y2 = vertices[(i + 1) % len(vertices)]\n",
    "            color = 'black'  \n",
    "            edge_key = tuple(sorted(((x1, y1), (x2, y2))))  \n",
    "            text_color = 'black' \n",
    "\n",
    "            for edge_info in highlight_edges:\n",
    "                edge_index = int(edge_info[0]) - 1\n",
    "                if i == edge_index:\n",
    "                    color_code = int(edge_info[1])\n",
    "                    if color_code == 1:\n",
    "                        color = 'blue'\n",
    "                    elif color_code == 0:\n",
    "                        color = 'red'\n",
    "                    \n",
    "                    if edge_key not in marked_edges:  \n",
    "                        value = edge_info[2]  \n",
    "\n",
    "                        mid_x = (x1 + x2) / 2\n",
    "                        mid_y = (y1 + y2) / 2\n",
    "\n",
    "                        angle = np.degrees(np.arctan2(y2 - y1, x2 - x1)) - 90\n",
    "                        if angle < 0:\n",
    "                            angle += 360\n",
    "\n",
    "                        ax.text(mid_x, mid_y, str(value), color=text_color, ha='center', va='center', rotation=angle, fontweight='bold')\n",
    "\n",
    "                        marked_edges.add(edge_key)  \n",
    "                        break  \n",
    "            \n",
    "            ax.plot([x1, x2], [y1, y2], color=color, linewidth=2)\n",
    "\n",
    "    plt.title(\"Origami Pattern\")\n",
    "    plt.xlabel(\"X\")\n",
    "    plt.ylabel(\"Y\")\n",
    "    plt.grid(True)\n",
    "    plt.show()"
   ]
  },
  {
   "cell_type": "code",
   "execution_count": 9,
   "metadata": {},
   "outputs": [],
   "source": [
    "def calculate_b(theta):\n",
    "    \n",
    "    t = theta * np.pi / 180 / 2   \n",
    "    d = layer_height\n",
    "    h = d * 2\n",
    "    a = d * (layer_count - 2)\n",
    "    b = a * np.tan(t) + 1/np.cos(t) * (h - (delta/(t*2) - d/2)*np.sin(t))\n",
    "\n",
    "    return b\n",
    "\n",
    "def calculate_width(direction, theta):\n",
    "    if theta <= 90:\n",
    "        b = calculate_b(theta)\n",
    "        w = 2 * b + delta\n",
    "        if direction == 1:\n",
    "            w *= -1\n",
    "        return w\n",
    "    \n",
    "    else:\n",
    "        theta = theta / 2\n",
    "        b = calculate_b(theta)\n",
    "        w = 2 * (2 * b + delta) + delta\n",
    "        if direction == 1:\n",
    "            w *= -1\n",
    "        return w"
   ]
  },
  {
   "cell_type": "code",
   "execution_count": 5,
   "metadata": {},
   "outputs": [],
   "source": [
    "def is_same_vertex(v1, v2, tolerance=0.001):\n",
    "    \"\"\"\n",
    "    比较两个顶点是否相同。\n",
    "    \"\"\"\n",
    "    return abs(v1[0] - v2[0]) < tolerance and abs(v1[1] - v2[1]) < tolerance"
   ]
  },
  {
   "cell_type": "code",
   "execution_count": 7,
   "metadata": {},
   "outputs": [],
   "source": [
    "def polygon_array_to_graph(polygon_array):\n",
    "    \"\"\"\n",
    "    将多边形数组转换为无环图。\n",
    "    \"\"\"\n",
    "    graph = nx.Graph()\n",
    "    polygon_count = len(polygon_array)\n",
    "\n",
    "    # 添加节点（多边形）到图中\n",
    "    for i in range(polygon_count):\n",
    "        graph.add_node(i)\n",
    "\n",
    "    # 找到连接的边并添加到图中\n",
    "    for i in range(polygon_count):\n",
    "        for j in range(i + 1, polygon_count):  # 避免重复和自身连接\n",
    "            polygon1_vertices = polygon_array[i][0]\n",
    "            polygon1_connections = polygon_array[i][1]\n",
    "            polygon2_vertices = polygon_array[j][0]\n",
    "            polygon2_connections = polygon_array[j][1]\n",
    "\n",
    "            for conn1 in polygon1_connections:\n",
    "                edge_index1 = int(conn1[0])\n",
    "                v1_index1 = (edge_index1 - 1) % len(polygon1_vertices)\n",
    "                v2_index1 = edge_index1 % len(polygon1_vertices)\n",
    "                v1 = polygon1_vertices[v1_index1]\n",
    "                v2 = polygon1_vertices[v2_index1]\n",
    "                width1 = calculate_width(conn1[1], conn1[2])\n",
    "\n",
    "                for conn2 in polygon2_connections:\n",
    "                    edge_index2 = int(conn2[0])\n",
    "                    v3_index2 = (edge_index2 - 1) % len(polygon2_vertices)\n",
    "                    v4_index2 = edge_index2 % len(polygon2_vertices)\n",
    "                    v3 = polygon2_vertices[v3_index2]\n",
    "                    v4 = polygon2_vertices[v4_index2]\n",
    "                    width2 = calculate_width(conn2[1], conn2[2])\n",
    "\n",
    "                    # 更严格的连接判断：比较端点坐标\n",
    "                    if (is_same_vertex(v1, v3) and is_same_vertex(v2, v4)) or \\\n",
    "                       (is_same_vertex(v1, v4) and is_same_vertex(v2, v3)):\n",
    "                        graph.add_edge(i, j, weight=width1)\n",
    "                        break  # 找到了连接，不再遍历\n",
    "    return graph"
   ]
  },
  {
   "cell_type": "code",
   "execution_count": 37,
   "metadata": {},
   "outputs": [
    {
     "data": {
      "image/png": "[encoded data removed]",
      "text/plain": [
       "<Figure size 640x480 with 1 Axes>"
      ]
     },
     "metadata": {},
     "output_type": "display_data"
    },
    {
     "name": "stdout",
     "output_type": "stream",
     "text": [
      "图的边: [(0, 1, {'weight': -10.444150064008822}), (1, 2, {'weight': -10.444150064008822}), (1, 3, {'weight': -10.444150064008822}), (3, 4, {'weight': -10.444150064008822}), (3, 5, {'weight': -10.444150064008822})]\n"
     ]
    }
   ],
   "source": [
    "# polygons = read_data_file('data_files/single_90.dat')\n",
    "# polygons = read_data_file('data_files/single_180.dat')\n",
    "# polygons = read_data_file('data_files/zig-zag.dat')\n",
    "polygons = read_data_file('data_files/cube.dat')\n",
    "draw_polygons(polygons)\n",
    "graph = polygon_array_to_graph(polygons)\n",
    "print(\"图的边:\", graph.edges(data=True))"
   ]
  },
  {
   "cell_type": "code",
   "execution_count": 11,
   "metadata": {},
   "outputs": [],
   "source": [
    "def has_cycles(graph):\n",
    "    \"\"\"\n",
    "    判断图是否包含环。\n",
    "    \"\"\"\n",
    "    try:\n",
    "        nx.find_cycle(graph)\n",
    "        return True\n",
    "    except nx.NetworkXNoCycle:\n",
    "        return False"
   ]
  },
  {
   "cell_type": "code",
   "execution_count": 38,
   "metadata": {},
   "outputs": [
    {
     "data": {
      "text/plain": [
       "False"
      ]
     },
     "execution_count": 38,
     "metadata": {},
     "output_type": "execute_result"
    }
   ],
   "source": [
    "has_cycles(graph)"
   ]
  },
  {
   "cell_type": "code",
   "execution_count": 13,
   "metadata": {},
   "outputs": [],
   "source": [
    "def get_subtree_nodes(graph, root, visited=None):\n",
    "    \"\"\"\n",
    "    获取以给定节点为根的子树中的所有节点。\n",
    "    \"\"\"\n",
    "    if visited is None:\n",
    "        visited = set()\n",
    "    subtree_nodes = set()\n",
    "    stack = [root]\n",
    "    while stack:\n",
    "        node = stack.pop()\n",
    "        if node not in visited:\n",
    "            subtree_nodes.add(node)\n",
    "            visited.add(node)\n",
    "            for neighbor in graph.neighbors(node):\n",
    "                if neighbor not in visited:\n",
    "                    stack.append(neighbor)\n",
    "    return list(subtree_nodes)"
   ]
  },
  {
   "cell_type": "code",
   "execution_count": 14,
   "metadata": {},
   "outputs": [],
   "source": [
    "def edge_vector(polygon_index, neighbor_index, graph, polygon_array):\n",
    "    \"\"\"\n",
    "    计算垂直于边的向量，方向从 polygon_index 指向 neighbor_index 所在的多边形。\n",
    "    \"\"\"\n",
    "\n",
    "    polygon1_vertices = polygon_array[polygon_index][0]\n",
    "    polygon2_vertices = polygon_array[neighbor_index][0]\n",
    "    #寻找公共边\n",
    "    v1,v2 = None, None\n",
    "    for conn1 in polygon_array[polygon_index][1]:\n",
    "        edge_index1 = int(conn1[0])\n",
    "        v1_index1 = (edge_index1 - 1) % len(polygon1_vertices)\n",
    "        v2_index1 = edge_index1 % len(polygon1_vertices)\n",
    "        candidate_v1 = polygon1_vertices[v1_index1]\n",
    "        candidate_v2 = polygon1_vertices[v2_index1]\n",
    "        for conn2 in polygon_array[neighbor_index][1]:\n",
    "            edge_index2 = int(conn2[0])\n",
    "            neighbor_v1_index2 = (edge_index2 - 1) % len(polygon2_vertices)\n",
    "            neighbor_v2_index2 = edge_index2 % len(polygon2_vertices)\n",
    "            neighbor_v1 = polygon2_vertices[neighbor_v1_index2]\n",
    "            neighbor_v2 = polygon2_vertices[neighbor_v2_index2]\n",
    "\n",
    "            # 匹配端点\n",
    "            if (is_same_vertex(candidate_v1, neighbor_v1) and is_same_vertex(candidate_v2, neighbor_v2)) or \\\n",
    "                    (is_same_vertex(candidate_v1, neighbor_v2) and is_same_vertex(candidate_v2, neighbor_v1)):\n",
    "                v1,v2 = candidate_v1, candidate_v2\n",
    "                break\n",
    "\n",
    "    if v1 is None or v2 is None:\n",
    "        return np.array([0.0, 0.0])\n",
    "\n",
    "    # 计算边的方向向量\n",
    "    edge_direction = np.array(v2) - np.array(v1)\n",
    "    # 垂直向量 (交换 x 和 y，然后取反一个)\n",
    "    normal_vector = np.array([-edge_direction[1], edge_direction[0]])\n",
    "    # 归一化向量\n",
    "    norm = np.linalg.norm(normal_vector)\n",
    "    if norm == 0:\n",
    "        return np.array([0.0, 0.0])  # 避免除以零\n",
    "    normalized_vector = normal_vector / norm\n",
    "\n",
    "    weight = graph[polygon_index][neighbor_index]['weight']\n",
    "    # 乘以权重的绝对值来确定向量的大小\n",
    "    return normalized_vector * abs(weight)\n"
   ]
  },
  {
   "cell_type": "code",
   "execution_count": 15,
   "metadata": {},
   "outputs": [],
   "source": [
    "def dfs_tree_traversal(graph, root, polygon_array, visited=None, result=None):\n",
    "    \"\"\"\n",
    "    使用深度优先搜索遍历树，并将结果存储在高维列表中。\n",
    "    \"\"\"\n",
    "    if visited is None:\n",
    "        visited = set()\n",
    "    if result is None:\n",
    "        result = []\n",
    "\n",
    "    visited.add(root)\n",
    "\n",
    "    for neighbor in graph.neighbors(root):\n",
    "        if neighbor not in visited:\n",
    "            edge_data = graph.get_edge_data(root, neighbor)\n",
    "            weight = edge_data['weight']\n",
    "\n",
    "            # 计算向量\n",
    "            vector = edge_vector(root, neighbor, graph, polygon_array)\n",
    "\n",
    "            subtree_nodes = get_subtree_nodes(graph, neighbor, visited.copy())\n",
    "            result.append([[root, neighbor], weight, subtree_nodes, vector.tolist()])  # 存储结果，并将 NumPy 数组转换为列表\n",
    "\n",
    "            dfs_tree_traversal(graph, neighbor, polygon_array, visited, result)  # 递归调用\n",
    "\n",
    "    return result"
   ]
  },
  {
   "cell_type": "code",
   "execution_count": 39,
   "metadata": {},
   "outputs": [],
   "source": [
    "edges = dfs_tree_traversal(graph, 0, polygons)"
   ]
  },
  {
   "cell_type": "code",
   "execution_count": 41,
   "metadata": {},
   "outputs": [
    {
     "data": {
      "text/plain": [
       "[[[0, 1], -10.444150064008822, [1, 2, 3, 4, 5], [-10.444150064008822, 0.0]],\n",
       " [[1, 2], -10.444150064008822, [2], [-0.0, -10.444150064008822]],\n",
       " [[1, 3], -10.444150064008822, [3, 4, 5], [-10.444150064008822, 0.0]],\n",
       " [[3, 4], -10.444150064008822, [4], [-0.0, 10.444150064008822]],\n",
       " [[3, 5], -10.444150064008822, [5], [-10.444150064008822, 0.0]]]"
      ]
     },
     "execution_count": 41,
     "metadata": {},
     "output_type": "execute_result"
    }
   ],
   "source": [
    "edges"
   ]
  },
  {
   "cell_type": "code",
   "execution_count": 47,
   "metadata": {},
   "outputs": [],
   "source": [
    "def transform_polygons(polygon_array, edges):\n",
    "    \"\"\"\n",
    "    对子树中的多边形顶点进行平移。\n",
    "\n",
    "    Args:\n",
    "        polygon_array: 原始多边形数组。\n",
    "        edges:  dfs_tree_traversal 函数的输出结果 (edges 列表)。\n",
    "\n",
    "    Returns:\n",
    "        修改后的多边形数组。\n",
    "    \"\"\"\n",
    "    transformed_polygon_array = [\n",
    "        [np.array(vertices).tolist(), connections] for vertices, connections in polygon_array\n",
    "    ]\n",
    "\n",
    "    for edge in edges:\n",
    "        _, _, subtree_nodes, translation_vector = edge\n",
    "        translation_vector = np.array(translation_vector)  # 将平移向量转换为 NumPy 数组\n",
    "\n",
    "        for node_index in subtree_nodes:\n",
    "            # 将对应多边形的顶点坐标都加上平移向量\n",
    "            transformed_polygon_array[node_index][0] = (np.array(transformed_polygon_array[node_index][0]) - translation_vector).tolist() #转换为list\n",
    "\n",
    "    return transformed_polygon_array"
   ]
  },
  {
   "cell_type": "code",
   "execution_count": 48,
   "metadata": {},
   "outputs": [
    {
     "data": {
      "image/png": "[encoded data removed]",
      "text/plain": [
       "<Figure size 640x480 with 1 Axes>"
      ]
     },
     "metadata": {},
     "output_type": "display_data"
    }
   ],
   "source": [
    "polygons_modified = transform_polygons(polygons, edges)\n",
    "    \n",
    "draw_polygons(polygons_modified)"
   ]
  },
  {
   "cell_type": "code",
   "execution_count": 145,
   "metadata": {},
   "outputs": [],
   "source": [
    "def translate_connected_edges(polygon_array):\n",
    "    \"\"\"\n",
    "    将每个多边形与别的多边形相连的边进行处理，插入新顶点并更新连接信息。\n",
    "\n",
    "    Args:\n",
    "        polygon_array: 原始多边形数组。\n",
    "\n",
    "    Returns:\n",
    "        修改后的多边形数组。\n",
    "    \"\"\"\n",
    "\n",
    "    transformed_polygon_array = []\n",
    "    for polygon_index, (vertices, connections) in enumerate(polygon_array):\n",
    "        new_vertices = vertices[:]  # 复制顶点列表，避免修改原始数据\n",
    "        new_connections = []  # 创建新的连接信息列表\n",
    "\n",
    "        insert_info = []  # 存储要插入的顶点信息 (索引，顶点坐标)\n",
    "        vertex_count = len(vertices)\n",
    "\n",
    "        # count = 0\n",
    "        for conn in connections:\n",
    "        # for i in range (len(connections)):\n",
    "        #     conn = connections[-(i+1)]\n",
    "            edge_index = int(conn[0])\n",
    "            width = np.abs(calculate_width(conn[1], conn[2]))  # 使用绝对值\n",
    "            translation_distance = (width - delta) / 2.0\n",
    "\n",
    "            # 获取边的顶点坐标\n",
    "            v1_index = (edge_index - 1) % vertex_count\n",
    "            v2_index = edge_index % vertex_count\n",
    "            v1 = vertices[v1_index]\n",
    "            v2 = vertices[v2_index]\n",
    "\n",
    "            # 计算新的顶点位置\n",
    "            edge_direction = np.array(v2) - np.array(v1)\n",
    "            normal_vector = np.array([edge_direction[1], - edge_direction[0]])\n",
    "\n",
    "            # # 确保法向量指向多边形外部\n",
    "            # center = np.mean(np.array(vertices), axis=0)\n",
    "            # midpoint = (np.array(v1) + np.array(v2)) / 2.0\n",
    "            # to_center = center - midpoint\n",
    "\n",
    "            # if np.dot(normal_vector, to_center) > 0:\n",
    "            #     normal_vector = -normal_vector\n",
    "\n",
    "            # 归一化向量\n",
    "            norm = np.linalg.norm(normal_vector)\n",
    "            if norm == 0:\n",
    "                print('Warning: Normal vector is zero. Maybe two vertices are duplicate.')\n",
    "                continue  # 避免除以零\n",
    "            normalized_vector = normal_vector / norm\n",
    "            translation_vector = normalized_vector * translation_distance\n",
    "\n",
    "            # 计算新的顶点位置\n",
    "            new_v1 = np.array(v1) + translation_vector\n",
    "            new_v2 = np.array(v2) + translation_vector\n",
    "\n",
    "            # 存储插入信息（在 v2 之前插入 new_v1，然后在 v2 之前插入 new_v2）\n",
    "            insert_info.append((v1_index, new_v1.tolist()))\n",
    "            insert_info.append((v1_index, new_v2.tolist()))\n",
    "            # if count == 0:\n",
    "            # count += 1\n",
    "            \n",
    "        print(insert_info)\n",
    "\n",
    "\n",
    "        # 插入新顶点\n",
    "        offset = 1\n",
    "        # for i, insert_vertex in sorted(insert_info):  # 确保索引从小到大排列\n",
    "        for i, insert_vertex in insert_info:\n",
    "            new_vertices.insert(i + offset, insert_vertex)\n",
    "            offset += 1\n",
    "\n",
    "        # 更新连接信息\n",
    "        offset = 1\n",
    "        for conn in connections:\n",
    "            edge_index = int(conn[0])\n",
    "            #由于顶点插入到边的第二个顶点，因此坐标不会发生改变\n",
    "            new_connections.append([edge_index + offset, conn[1], conn[2]]) #添加未修改的连接信息\n",
    "            offset += 2\n",
    "\n",
    "        transformed_polygon_array.append([new_vertices, new_connections])\n",
    "\n",
    "    return transformed_polygon_array"
   ]
  },
  {
   "cell_type": "code",
   "execution_count": 147,
   "metadata": {},
   "outputs": [
    {
     "name": "stdout",
     "output_type": "stream",
     "text": [
      "[(1, [20.82207503200441, 0.0]), (1, [20.82207503200441, 16.0])]\n",
      "[(1, [47.26622509601324, 0.0]), (1, [47.26622509601324, 16.0]), (2, [42.444150064008824, 20.82207503200441]), (2, [26.444150064008824, 20.82207503200441]), (3, [21.622075032004414, 16.0]), (3, [21.622075032004414, 0.0])]\n",
      "[(0, [26.444150064008824, 21.622075032004414]), (0, [42.444150064008824, 21.622075032004414])]\n",
      "[(0, [52.88830012801765, -4.822075032004411]), (0, [68.88830012801765, -4.822075032004411]), (1, [73.71037516002205, 0.0]), (1, [73.71037516002205, 16.0]), (3, [48.066225096013234, 16.0]), (3, [48.066225096013234, 0.0])]\n",
      "[(2, [68.88830012801765, -5.622075032004411]), (2, [52.88830012801765, -5.622075032004411])]\n",
      "[(3, [74.51037516002206, 16.0]), (3, [74.51037516002206, 0.0])]\n"
     ]
    },
    {
     "data": {
      "image/png": "[encoded data removed]",
      "text/plain": [
       "<Figure size 640x480 with 1 Axes>"
      ]
     },
     "metadata": {},
     "output_type": "display_data"
    }
   ],
   "source": [
    "transform_polygons =  translate_connected_edges(polygons_modified)\n",
    "draw_polygons(transform_polygons)"
   ]
  },
  {
   "cell_type": "code",
   "execution_count": 13,
   "metadata": {},
   "outputs": [
    {
     "data": {
      "text/plain": [
       "[[8.0, 0.0], [16.0, 0.0], [16.0, 8.0], [8.0, 8.0]]"
      ]
     },
     "execution_count": 13,
     "metadata": {},
     "output_type": "execute_result"
    }
   ],
   "source": [
    "polygons[1][0]"
   ]
  },
  {
   "cell_type": "code",
   "execution_count": 33,
   "metadata": {},
   "outputs": [
    {
     "data": {
      "text/plain": [
       "[[8.0, 8.0], [16.0, 8.0], [16.0, 16.0], [8.0, 16.0]]"
      ]
     },
     "execution_count": 33,
     "metadata": {},
     "output_type": "execute_result"
    }
   ],
   "source": [
    "polygons[2][0]"
   ]
  },
  {
   "cell_type": "code",
   "execution_count": 34,
   "metadata": {},
   "outputs": [
    {
     "data": {
      "text/plain": [
       "1"
      ]
     },
     "execution_count": 34,
     "metadata": {},
     "output_type": "execute_result"
    }
   ],
   "source": [
    "np.abs(-1)"
   ]
  },
  {
   "cell_type": "code",
   "execution_count": null,
   "metadata": {},
   "outputs": [],
   "source": []
  }
 ],
 "metadata": {
  "kernelspec": {
   "display_name": "gcode",
   "language": "python",
   "name": "python3"
  },
  "language_info": {
   "codemirror_mode": {
    "name": "ipython",
    "version": 3
   },
   "file_extension": ".py",
   "mimetype": "text/x-python",
   "name": "python",
   "nbconvert_exporter": "python",
   "pygments_lexer": "ipython3",
   "version": "3.8.20"
  }
 },
 "nbformat": 4,
 "nbformat_minor": 2
}
